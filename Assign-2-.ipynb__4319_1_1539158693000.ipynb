{
 "cells": [
  {
   "cell_type": "markdown",
   "metadata": {},
   "source": [
    "### 华东师范大学计算机科学技术系作业\n",
    "\n",
    " | 华东师范大学计算机科学技术系作业 | |\n",
    ":- | :- | :- \n",
    " 课程名称：编程导论Python | 年级：2018级| 作业成绩：\n",
    " 指导教师：兰曼 | 姓名：魏明达  |  提交作业日期：2018年10月17日  \n",
    " 专业：计算机系 | 学号：10185102232  |  作业编号： 2\n",
    " -----------------------------"
   ]
  },
  {
   "cell_type": "markdown",
   "metadata": {},
   "source": [
    "一、 编写一个Python 程序，计算 $1^4+2^4+3^4+...+(n-1)^4+n^4$ 的结果。（15分）"
   ]
  },
  {
   "cell_type": "code",
   "execution_count": 1,
   "metadata": {},
   "outputs": [
    {
     "name": "stdout",
     "output_type": "stream",
     "text": [
      "173401213127727513600000000\n"
     ]
    }
   ],
   "source": [
    "n = 10\n",
    "k = 1\n",
    "for i in range(1, n+1):\n",
    "    k *= i**4\n",
    "print(k)\n"
   ]
  },
  {
   "cell_type": "markdown",
   "metadata": {},
   "source": [
    "二、\t在全班50 名同学中征集慈善募捐活动，预计要捐善款一万元，每个同学捐款数目不定，当捐款总数大于等于一万元之后停止捐款。编写一个Python\n",
    "程序，统计此时捐款人数以及平均捐款数目。\n",
    "<br/>\n",
    "输入：依次输入每个同学的捐款钱数，总数大于等于一万停止；\n",
    "<br/>\n",
    "输出：两个数N 和A，分别代表捐款人数和平均捐款数。\n",
    "<br/>\n",
    "（15分）"
   ]
  },
  {
   "cell_type": "code",
   "execution_count": 1,
   "metadata": {},
   "outputs": [
    {
     "name": "stdout",
     "output_type": "stream",
     "text": [
      "1\n",
      "2\n",
      "9999\n",
      "N=3, A=3334.000000\n"
     ]
    }
   ],
   "source": [
    "k, n = 0, 0\n",
    "while k < 1e4:\n",
    "    k += int(input())\n",
    "    n += 1\n",
    "A = k/n\n",
    "print('N=%d, A=%f' % (n, A))\n"
   ]
  },
  {
   "cell_type": "markdown",
   "metadata": {},
   "source": [
    "三、\t有三门课外兴趣班，分别是篮球班，羽毛球班和足球班，一个班级里每个同学都至少要选一门。现在将选课程的同学名单用列表表示L1（篮球班名单），L2（羽毛球班名单），L3（足球班名单），同学名称用拼音代替，如“XiaoMing”、“Lanlan”等，假设班级里没有重名的学生。编写一个Python程序，打印该班级同学名单，并求出共有多少名同学？\n",
    "<br/>\n",
    "输入：列表L1，L2 和L3，列表中存的是同学名字\n",
    "<br/>\n",
    "输出：学生名单和学生总数\n",
    "<br/>\n",
    "（10分）"
   ]
  },
  {
   "cell_type": "code",
   "execution_count": 3,
   "metadata": {},
   "outputs": [
    {
     "name": "stdout",
     "output_type": "stream",
     "text": [
      "jjj\n",
      "ppp\n",
      "ddd\n",
      "jsdhfj\n",
      "kkk\n",
      "lll\n",
      "sdhf\n",
      "\n",
      "总数=7\n"
     ]
    }
   ],
   "source": [
    "L1 = ['jsdhfj','jjj','kkk','lll','ddd']\n",
    "L2 = ['jjj','ppp','sdhf']\n",
    "L3 = ['ddd','lll']\n",
    "L4 = L1 + L2 + L3\n",
    "L4 = set(L4)\n",
    "num = len(L4)\n",
    "for each in L4:\n",
    "    print(each)\n",
    "print('\\n总数=%d' % num)"
   ]
  },
  {
   "cell_type": "markdown",
   "metadata": {},
   "source": [
    "四、\t编写一个Pyhton 程序，求200 到500 之间不能被3 整除但能被5 整除的所有数。（15分）"
   ]
  },
  {
   "cell_type": "code",
   "execution_count": 4,
   "metadata": {},
   "outputs": [
    {
     "name": "stdout",
     "output_type": "stream",
     "text": [
      "200\n",
      "205\n",
      "215\n",
      "220\n",
      "230\n",
      "235\n",
      "245\n",
      "250\n",
      "260\n",
      "265\n",
      "275\n",
      "280\n",
      "290\n",
      "295\n",
      "305\n",
      "310\n",
      "320\n",
      "325\n",
      "335\n",
      "340\n",
      "350\n",
      "355\n",
      "365\n",
      "370\n",
      "380\n",
      "385\n",
      "395\n",
      "400\n",
      "410\n",
      "415\n",
      "425\n",
      "430\n",
      "440\n",
      "445\n",
      "455\n",
      "460\n",
      "470\n",
      "475\n",
      "485\n",
      "490\n",
      "500\n"
     ]
    }
   ],
   "source": [
    "L = []\n",
    "for each in range(200, 501):\n",
    "    if each%3 != 0 and each%5 == 0:\n",
    "        L.append(each)\n",
    "for each in L:\n",
    "    print(each)"
   ]
  },
  {
   "cell_type": "markdown",
   "metadata": {},
   "source": [
    "五、\t编写一个Pyhton 程序，求三位数的整数中能被3 整除，且至少有一位是5 的所有数。（15分）"
   ]
  },
  {
   "cell_type": "code",
   "execution_count": 5,
   "metadata": {},
   "outputs": [
    {
     "name": "stdout",
     "output_type": "stream",
     "text": [
      "105\n",
      "135\n",
      "150\n",
      "153\n",
      "156\n",
      "159\n",
      "165\n",
      "195\n",
      "225\n",
      "252\n",
      "255\n",
      "258\n",
      "285\n",
      "315\n",
      "345\n",
      "351\n",
      "354\n",
      "357\n",
      "375\n",
      "405\n",
      "435\n",
      "450\n",
      "453\n",
      "456\n",
      "459\n",
      "465\n",
      "495\n",
      "501\n",
      "504\n",
      "507\n",
      "510\n",
      "513\n",
      "516\n",
      "519\n",
      "522\n",
      "525\n",
      "528\n",
      "531\n",
      "534\n",
      "537\n",
      "540\n",
      "543\n",
      "546\n",
      "549\n",
      "552\n",
      "555\n",
      "558\n",
      "561\n",
      "564\n",
      "567\n",
      "570\n",
      "573\n",
      "576\n",
      "579\n",
      "582\n",
      "585\n",
      "588\n",
      "591\n",
      "594\n",
      "597\n",
      "615\n",
      "645\n",
      "651\n",
      "654\n",
      "657\n",
      "675\n",
      "705\n",
      "735\n",
      "750\n",
      "753\n",
      "756\n",
      "759\n",
      "765\n",
      "795\n",
      "825\n",
      "852\n",
      "855\n",
      "858\n",
      "885\n",
      "915\n",
      "945\n",
      "951\n",
      "954\n",
      "957\n",
      "975\n"
     ]
    }
   ],
   "source": [
    "L = []\n",
    "for each in range(100, 1000):\n",
    "    if each%3 == 0:\n",
    "        p = str(each)\n",
    "        if '5' in p:\n",
    "            L.append(each)\n",
    "for each in L:\n",
    "    print(each)"
   ]
  },
  {
   "cell_type": "markdown",
   "metadata": {},
   "source": [
    "六、\t编写一个Pyhton 程序，输入一个大于3 的整数n，判断该数是否是素数（质数）。（15分）"
   ]
  },
  {
   "cell_type": "code",
   "execution_count": 8,
   "metadata": {},
   "outputs": [
    {
     "name": "stdout",
     "output_type": "stream",
     "text": [
      "不是质数\n"
     ]
    }
   ],
   "source": [
    "from math import sqrt\n",
    "n = 546546523\n",
    "k = 1\n",
    "for each in range(2, int(sqrt(n))+1):\n",
    "    if n % each == 0:\n",
    "        k = 0\n",
    "        break\n",
    "if k:\n",
    "    print('是质数')\n",
    "else:\n",
    "    print('不是质数')\n"
   ]
  },
  {
   "cell_type": "markdown",
   "metadata": {},
   "source": [
    "七、\t编写一个Pyhton 程序，求200 到500（包括500）之间的全部素数。（15分）"
   ]
  },
  {
   "cell_type": "code",
   "execution_count": 1,
   "metadata": {},
   "outputs": [
    {
     "name": "stdout",
     "output_type": "stream",
     "text": [
      "211\n",
      "223\n",
      "227\n",
      "229\n",
      "233\n",
      "239\n",
      "241\n",
      "251\n",
      "257\n",
      "263\n",
      "269\n",
      "271\n",
      "277\n",
      "281\n",
      "283\n",
      "293\n",
      "307\n",
      "311\n",
      "313\n",
      "317\n",
      "331\n",
      "337\n",
      "347\n",
      "349\n",
      "353\n",
      "359\n",
      "367\n",
      "373\n",
      "379\n",
      "383\n",
      "389\n",
      "397\n",
      "401\n",
      "409\n",
      "419\n",
      "421\n",
      "431\n",
      "433\n",
      "439\n",
      "443\n",
      "449\n",
      "457\n",
      "461\n",
      "463\n",
      "467\n",
      "479\n",
      "487\n",
      "491\n",
      "499\n"
     ]
    }
   ],
   "source": [
    "L = [1 for each in range(501)]\n",
    "for i in range(2, 25):\n",
    "    if L[i]:\n",
    "        for j in range(i, 501, i):\n",
    "            L[j] = 0\n",
    "for i in range(200, 501):\n",
    "    if L[i]:\n",
    "        print(i)\n"
   ]
  }
 ],
 "metadata": {
  "kernelspec": {
   "display_name": "Python 3",
   "language": "python",
   "name": "python3"
  },
  "language_info": {
   "codemirror_mode": {
    "name": "ipython",
    "version": 3
   },
   "file_extension": ".py",
   "mimetype": "text/x-python",
   "name": "python",
   "nbconvert_exporter": "python",
   "pygments_lexer": "ipython3",
   "version": "3.6.6"
  }
 },
 "nbformat": 4,
 "nbformat_minor": 2
}
