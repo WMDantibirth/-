{
 "cells": [
  {
   "cell_type": "markdown",
   "metadata": {},
   "source": [
    "### 华东师范大学计算机科学技术系作业\n",
    "\n",
    " | 华东师范大学计算机科学技术系作业 | |\n",
    ":- | :- | :- \n",
    " 课程名称：编程导论Python | 年级：2018级| 作业成绩：\n",
    " 指导教师：兰曼 | 姓名：魏明达  |  提交作业日期：2018年10月24日  \n",
    " 专业：计算机系 | 学号：10185102232  |  作业编号： 3\n",
    " -----------------------------"
   ]
  },
  {
   "cell_type": "markdown",
   "metadata": {},
   "source": [
    "一、 请用自定义函数编程实现 f(n),函数功能为：求 n 的阶乘。 利用函数 f(n), 编程实现对任意给定的3个整数 $x \\le y \\le z $, $ ( 1 < x \\le y \\le y \\le z < 100)$， 求$x!+y!+z!$。（20分）"
   ]
  },
  {
   "cell_type": "code",
   "execution_count": 3,
   "metadata": {},
   "outputs": [
    {
     "name": "stdout",
     "output_type": "stream",
     "text": [
      "9\n"
     ]
    }
   ],
   "source": [
    "def f(n):\n",
    "    k = 1\n",
    "    for i in range(1, n+1):\n",
    "        k *= i\n",
    "    return k\n",
    "\n",
    "x = 1\n",
    "y = 2\n",
    "z = 3\n",
    "print(f(x)+f(y)+f(z))"
   ]
  },
  {
   "cell_type": "markdown",
   "metadata": {},
   "source": [
    "二、请用自定义函数编程实现factor(num,k)，函数功能为：求整数num中包含因子k的个数，如果没有该因子则返回0。例如12=2\\*2\\*3，则factors(12,2)=2，factors(12,3)=1，factors(12,4)=1，factors(12,5)=0。（20分）"
   ]
  },
  {
   "cell_type": "code",
   "execution_count": 1,
   "metadata": {},
   "outputs": [
    {
     "name": "stdout",
     "output_type": "stream",
     "text": [
      "2\n"
     ]
    }
   ],
   "source": [
    "def factors(num, k):\n",
    "    i = 0\n",
    "    p = num\n",
    "    while p%k == 0:\n",
    "        i += 1\n",
    "        p //= k\n",
    "    return i\n",
    "\n",
    "print(factors(12,2))"
   ]
  },
  {
   "cell_type": "markdown",
   "metadata": {},
   "source": [
    "三、请用自定义函数编程实现pai(e)，函数功能为：根据以下公式求$\\pi$的值，直到某一项的值小于给定的精度e。\n",
    "    $$\\cfrac{\\pi}{2}=1+\\cfrac{1}{3}+\\cfrac{1}{3}*\\cfrac{2}{5}+\\cfrac{1}{3}*\\cfrac{2}{5}*\\cfrac{3}{7}+\\cfrac{1}{3}*\\cfrac{2}{5}*\\cfrac{3}{7}*\\cfrac{4}{9}+\\ldots\\ldots  $$\n",
    "   输入：精度e，例如0.0005                                         \n",
    "   输出：$\\pi$的值，上例为3.14058\n",
    "（20分）"
   ]
  },
  {
   "cell_type": "code",
   "execution_count": 1,
   "metadata": {},
   "outputs": [
    {
     "name": "stdout",
     "output_type": "stream",
     "text": [
      "0.0005\n",
      "3.140578169680336\n"
     ]
    }
   ],
   "source": [
    "def f(n):\n",
    "    k = 1\n",
    "    for i in range(1, n+1):\n",
    "        k *= i\n",
    "    return k\n",
    "\n",
    "def g(n):\n",
    "    k = 1\n",
    "    for i in range(3, 2*n+2, 2):\n",
    "        k *= i\n",
    "    return k\n",
    "\n",
    "e = float(input())\n",
    "a = 1\n",
    "i = 1\n",
    "while f(i)/g(i) >= e and i < 50:\n",
    "    a += (f(i)/g(i))\n",
    "    i += 1\n",
    "print(2*a)"
   ]
  },
  {
   "cell_type": "markdown",
   "metadata": {},
   "source": [
    "四、请用自定义函数编程实现fun(a,b)，函数功能为：将两个三位数的整数a，b合并成一个整数c，合并规则为c的十万位、千位和十位分别是a的百位、十位和个位，而c的万位、百位和个位分别是b的百位、十位和个位。例如：输入为 a=123，b=456，则输出为 c=142536（20分）"
   ]
  },
  {
   "cell_type": "code",
   "execution_count": 25,
   "metadata": {},
   "outputs": [
    {
     "name": "stdout",
     "output_type": "stream",
     "text": [
      "142536\n"
     ]
    }
   ],
   "source": [
    "def fun(a, b):\n",
    "    x1 = a//100 * 100000\n",
    "    a -= a//100 * 100\n",
    "    x2 = b//100 * 10000\n",
    "    b -= b//100 * 100\n",
    "    x3 = a//10 * 1000\n",
    "    a -= a//10 * 10\n",
    "    x4 = b//10 * 100\n",
    "    b -= b//10 * 10\n",
    "    x5 = 10*a\n",
    "    x6 = b\n",
    "    return(x1 + x2 + x3 + x4 + x5 + x6)\n",
    "\n",
    "print(fun(123, 456))"
   ]
  },
  {
   "cell_type": "markdown",
   "metadata": {},
   "source": [
    "五、请以多项式$4x^{20}+3x^{10}+5$和多项式$2x^8+x-1$为例，使用本章中子列表形式的数据结构（第三种），编写多项式乘法和除法的Python程序。（20分）"
   ]
  },
  {
   "cell_type": "code",
   "execution_count": 4,
   "metadata": {},
   "outputs": [
    {
     "name": "stdout",
     "output_type": "stream",
     "text": [
      "multiply:[[28, 8], [21, 4], [20, -4], [18, 6], [11, 3], [10, -3], [8, 10], [1, 5], [0, -5]]\n",
      "商：[2.0, 0.0, 0.0, 0.0, 0.0, 0.0, 0.0, -1.0, 1.0, 0.0, 1.5, 0.0, 0.0]\n",
      "余数[1.0, -2.0, 1.0, -1.5, 1.5, 0.0, 5.0]\n"
     ]
    }
   ],
   "source": [
    "def multiply(L1, L2):\n",
    "    k = []\n",
    "    for i in L1:\n",
    "        for j in L2:\n",
    "            p = [i[0] + j[0], i[1] * j[1]]\n",
    "            k.append(p)\n",
    "    n = len(k)\n",
    "    for i in range(n):\n",
    "        for j in range(n):\n",
    "            if i < len(k) and j < len(k):\n",
    "                if i != j and k[i][0] == k[j][0]:\n",
    "                    k[j][1] += k[i][1]\n",
    "                    del (k[i])\n",
    "    for i in range(len(k)):\n",
    "        if i < len(k) and k[i][1] == 0:\n",
    "            del (k[i])\n",
    "    print('multiply:', end='')\n",
    "    print(k)\n",
    "\n",
    "\n",
    "def division(L1, L2):\n",
    "    k = []\n",
    "    for i in L1:\n",
    "        k.append(i[0])\n",
    "    p = []\n",
    "    for i in range(max(k), -1, -1):\n",
    "        if i not in k:\n",
    "            p.append(0)\n",
    "        else:\n",
    "            p.append(L1[k.index(i)][1])\n",
    "    k = []\n",
    "    for i in L2:\n",
    "        k.append(i[0])\n",
    "    q = []\n",
    "    for i in range(max(k), -1, -1):\n",
    "        if i not in k:\n",
    "            q.append(0)\n",
    "        else:\n",
    "            q.append(L2[k.index(i)][1])\n",
    "    if len(p) < len(q):\n",
    "        print('商0，余数', end='')\n",
    "        print(L1)\n",
    "    else:\n",
    "        a = []\n",
    "        while len(p) >= len(q):\n",
    "            x = p[0] / q[0]\n",
    "            a.append(x)\n",
    "            for i in range(len(q)):\n",
    "                p[i] -= x*q[i]\n",
    "            del p[0]\n",
    "    while p[0] == 0:\n",
    "        del p[0]\n",
    "    print('商：', end='')\n",
    "    print(a)\n",
    "    print('余数', end='')\n",
    "    print(p)\n",
    "\n",
    "\n",
    "L1 = [[20, 4], [10, 3], [0, 5]]\n",
    "L2 = [[8, 2], [1, 1], [0, -1]]\n",
    "multiply(L1, L2)\n",
    "division(L1, L2)\n"
   ]
  }
 ],
 "metadata": {
  "kernelspec": {
   "display_name": "Python 3",
   "language": "python",
   "name": "python3"
  },
  "language_info": {
   "codemirror_mode": {
    "name": "ipython",
    "version": 3
   },
   "file_extension": ".py",
   "mimetype": "text/x-python",
   "name": "python",
   "nbconvert_exporter": "python",
   "pygments_lexer": "ipython3",
   "version": "3.6.6"
  }
 },
 "nbformat": 4,
 "nbformat_minor": 2
}
