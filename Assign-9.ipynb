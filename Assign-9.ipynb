{
 "cells": [
  {
   "cell_type": "markdown",
   "metadata": {},
   "source": [
    "# 华东师范大学计算机科学技术系作业\n",
    "\n",
    " | 华东师范大学计算机科学技术系作业 | |\n",
    ":- | :- | :- \n",
    " 课程名称：编程导论Python | 年级：2018级| 作业成绩：\n",
    " 指导教师：兰曼 | 姓名：黎明  |  提交作业日期：2018年12月12日  \n",
    " 专业：计算机系 | 学号：101851022XX   |  作业编号： 9\n",
    " -----------------------------"
   ]
  },
  {
   "cell_type": "markdown",
   "metadata": {},
   "source": [
    "一、用递归和非递归两种方式实现list的内置函数 pop ，函数格式为 my_pop(L,i)。pop 函数将列表 L 中索引为 i 的元素弹出并返回其值。假设L=`[1, 2, 3]`，执行完 my_pop(1,2)后返回3以及新列表值`[1, 2]`。\n",
    "<br/>\n",
    "（20分）"
   ]
  },
  {
   "cell_type": "code",
   "execution_count": 15,
   "metadata": {},
   "outputs": [
    {
     "name": "stdout",
     "output_type": "stream",
     "text": [
      "3\n",
      "[1, 2]\n"
     ]
    }
   ],
   "source": [
    "#非递归\n",
    "def my_pop(L,i):\n",
    "    a=L[i]\n",
    "    del(L[i])\n",
    "    return a\n",
    "\n",
    "L = [1,2,3]\n",
    "print(my_pop(L,2))\n",
    "print(L)\n"
   ]
  },
  {
   "cell_type": "code",
   "execution_count": 19,
   "metadata": {},
   "outputs": [
    {
     "name": "stdout",
     "output_type": "stream",
     "text": [
      "3\n",
      "[1, 2]\n"
     ]
    }
   ],
   "source": [
    "#递归\n",
    "def my_pop(L,i):\n",
    "    if i == 0:\n",
    "        del(L[0])\n",
    "        return L[0]\n",
    "    return my_pop(L[1:],i-1)\n",
    "    \n",
    "print(my_pop([1,2,3],2))\n",
    "print(L)"
   ]
  },
  {
   "cell_type": "markdown",
   "metadata": {},
   "source": [
    "二、\t用递归和非递归两种方式实现 String 的 isalpha 函数。实现的函数格式为 my_isalpha(S)，my_isalpha 函数会判断字符串是否全部由字母组成，例如S=`\"asd123\"`，在执行语句 my_isalpha(S) 后会返回False。\n",
    "<br/>\n",
    "（20分）"
   ]
  },
  {
   "cell_type": "code",
   "execution_count": 54,
   "metadata": {},
   "outputs": [
    {
     "data": {
      "text/plain": [
       "False"
      ]
     },
     "execution_count": 54,
     "metadata": {},
     "output_type": "execute_result"
    }
   ],
   "source": [
    "def my_isalpha(S):\n",
    "    for each in S:\n",
    "        if not ord(each) in range(97,123) and not ord(each) in range(65,91):\n",
    "            return False\n",
    "    return True\n",
    "\n",
    "S=\"asd123\"\n",
    "my_isalpha(S)"
   ]
  },
  {
   "cell_type": "code",
   "execution_count": 59,
   "metadata": {},
   "outputs": [
    {
     "data": {
      "text/plain": [
       "False"
      ]
     },
     "execution_count": 59,
     "metadata": {},
     "output_type": "execute_result"
    }
   ],
   "source": [
    "def my_isalpha(S):\n",
    "    if len(S) == 0:return True\n",
    "    if len(S) == 1:\n",
    "        if not ord(S) in range(97,123) and not ord(S) in range(65,91):\n",
    "            return False\n",
    "        else:return True\n",
    "    if my_isalpha(S[:len(S)//2]) and my_isalpha(S[len(S)//2:]):return True\n",
    "    else:return False\n",
    "    \n",
    "S=\"asd123\"\n",
    "my_isalpha(S)"
   ]
  },
  {
   "cell_type": "markdown",
   "metadata": {},
   "source": [
    "三、给定一个整数列表 L，输出一个列表 S，其中 S[i]=L[0] 到 L[i] 的和。例如 L=`[1,2,4,2]` ，则输出 S=`[1,3,7,9]`。用简单递归方法实现此程序，再用二分递归方式来实现此程序。\n",
    "<br/>\n",
    "（20分）"
   ]
  },
  {
   "cell_type": "code",
   "execution_count": 64,
   "metadata": {},
   "outputs": [
    {
     "name": "stdout",
     "output_type": "stream",
     "text": [
      "[1, 3, 7, 9]\n"
     ]
    }
   ],
   "source": [
    "def f(L):\n",
    "    if len(L)==0:return[]\n",
    "    if len(L)==1:return L\n",
    "    return f(L[:len(L)-1])+[sum(L)]\n",
    "\n",
    "L=[1,2,4,2]\n",
    "print(f(L))"
   ]
  },
  {
   "cell_type": "code",
   "execution_count": 68,
   "metadata": {},
   "outputs": [
    {
     "name": "stdout",
     "output_type": "stream",
     "text": [
      "[1, 3, 7, 9]\n"
     ]
    }
   ],
   "source": [
    "def f(L,p=0):\n",
    "    if len(L)==0:return[p]\n",
    "    if len(L)==1:return[L[0]+p]\n",
    "    return f(L[:len(L)//2],p)+f(L[len(L)//2:],p+sum(L[:len(L)//2]))\n",
    "\n",
    "L=[1,2,4,2]\n",
    "print(f(L))"
   ]
  },
  {
   "cell_type": "markdown",
   "metadata": {},
   "source": [
    "四、假设有4种钱币：1分钱、5分钱、10分钱和25分钱。请问100分钱有多少种不同钱币的组合方式？例如：5分钱有两种组合方式：5个1分钱和1个5分钱；10分钱有4种组合方式：10个1分钱，2个5分钱，5个1分钱加上1个5分钱，1个10分钱。请先写出递归关系式。\n",
    "<br/>\n",
    "（20分）"
   ]
  },
  {
   "cell_type": "code",
   "execution_count": 22,
   "metadata": {},
   "outputs": [
    {
     "data": {
      "text/plain": [
       "480"
      ]
     },
     "execution_count": 22,
     "metadata": {},
     "output_type": "execute_result"
    }
   ],
   "source": [
    "#f(n)=f(n-1)+f(0)\n",
    "#f(0)=4*4*2+4*2**3+2**5\n",
    "def f(sum,s=4):\n",
    "    if sum==0:return 0\n",
    "    return(f(sum,s-1)\n",
    "\n",
    "f(100)"
   ]
  },
  {
   "cell_type": "markdown",
   "metadata": {},
   "source": [
    "五、用递归方式将一个多层嵌套 list 展开成一层，以 list=`['and','B',['not','A'],[1,2,1,[2,1],[1,1,[2,2,1]]],['not','A','A'],['or','A','B','A'],'B']`为例，则 list 展开结果为`['and','B','not','A',1,2,1,2,1,1,1,2,2,1,'not','A','A','or','A','B','A','B']` 。\n",
    "<br/>\n",
    "（20分）"
   ]
  },
  {
   "cell_type": "code",
   "execution_count": null,
   "metadata": {
    "collapsed": true
   },
   "outputs": [],
   "source": []
  }
 ],
 "metadata": {
  "kernelspec": {
   "display_name": "Python 3",
   "language": "python",
   "name": "python3"
  },
  "language_info": {
   "codemirror_mode": {
    "name": "ipython",
    "version": 3
   },
   "file_extension": ".py",
   "mimetype": "text/x-python",
   "name": "python",
   "nbconvert_exporter": "python",
   "pygments_lexer": "ipython3",
   "version": "3.6.1"
  }
 },
 "nbformat": 4,
 "nbformat_minor": 2
}
