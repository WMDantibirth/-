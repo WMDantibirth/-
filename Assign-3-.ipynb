{
 "cells": [
  {
   "cell_type": "markdown",
   "metadata": {},
   "source": [
    "### 华东师范大学计算机科学技术系作业\n",
    "\n",
    " | 华东师范大学计算机科学技术系作业 | |\n",
    ":- | :- | :- \n",
    " 课程名称：编程导论Python | 年级：2018级| 作业成绩：\n",
    " 指导教师：兰曼 | 姓名：魏明达  |  提交作业日期：2018年10月24日  \n",
    " 专业：计算机系 | 学号：10185102232  |  作业编号： 3\n",
    " -----------------------------"
   ]
  },
  {
   "cell_type": "markdown",
   "metadata": {},
   "source": [
    "一、 请用自定义函数编程实现 f(n),函数功能为：求 n 的阶乘。 利用函数 f(n), 编程实现对任意给定的3个整数 $x \\le y \\le z $, $ ( 1 < x \\le y \\le y \\le z < 100)$， 求$x!+y!+z!$。（20分）"
   ]
  },
  {
   "cell_type": "code",
   "execution_count": 3,
   "metadata": {},
   "outputs": [
    {
     "name": "stdout",
     "output_type": "stream",
     "text": [
      "9\n"
     ]
    }
   ],
   "source": [
    "def f(n):\n",
    "    k = 1\n",
    "    for i in range(1, n+1):\n",
    "        k *= i\n",
    "    return k\n",
    "\n",
    "x = 1\n",
    "y = 2\n",
    "z = 3\n",
    "print(f(x)+f(y)+f(z))"
   ]
  },
  {
   "cell_type": "markdown",
   "metadata": {},
   "source": [
    "二、请用自定义函数编程实现factor(num,k)，函数功能为：求整数num中包含因子k的个数，如果没有该因子则返回0。例如12=2\\*2\\*3，则factors(12,2)=2，factors(12,3)=1，factors(12,4)=1，factors(12,5)=0。（20分）"
   ]
  },
  {
   "cell_type": "code",
   "execution_count": 1,
   "metadata": {},
   "outputs": [
    {
     "name": "stdout",
     "output_type": "stream",
     "text": [
      "2\n"
     ]
    }
   ],
   "source": [
    "def factors(num, k):\n",
    "    i = 0\n",
    "    p = num\n",
    "    while p%k == 0:\n",
    "        i += 1\n",
    "        p //= k\n",
    "    return i\n",
    "\n",
    "print(factors(12,2))"
   ]
  },
  {
   "cell_type": "markdown",
   "metadata": {},
   "source": [
    "三、请用自定义函数编程实现pai(e)，函数功能为：根据以下公式求$\\pi$的值，直到某一项的值小于给定的精度e。\n",
    "    $$\\cfrac{\\pi}{2}=1+\\cfrac{1}{3}+\\cfrac{1}{3}*\\cfrac{2}{5}+\\cfrac{1}{3}*\\cfrac{2}{5}*\\cfrac{3}{7}+\\cfrac{1}{3}*\\cfrac{2}{5}*\\cfrac{3}{7}*\\cfrac{4}{9}+\\ldots\\ldots  $$\n",
    "   输入：精度e，例如0.0005                                         \n",
    "   输出：$\\pi$的值，上例为3.14058\n",
    "（20分）"
   ]
  },
  {
   "cell_type": "code",
   "execution_count": 13,
   "metadata": {},
   "outputs": [
    {
     "name": "stdout",
     "output_type": "stream",
     "text": [
      "0.0005\n",
      "3.140578169680336\n"
     ]
    }
   ],
   "source": [
    "def f(n):\n",
    "    k = 1\n",
    "    for i in range(1, n+1):\n",
    "        k *= i\n",
    "    return k\n",
    "\n",
    "def g(n):\n",
    "    k = 1\n",
    "    for i in range(3, 2*n+2, 2):\n",
    "        k *= i\n",
    "    return k\n",
    "\n",
    "e = float(input())\n",
    "a = 1\n",
    "i = 1\n",
    "while f(i)/g(i) >= e:\n",
    "    a += (f(i)/g(i))\n",
    "    i += 1\n",
    "print(2*a)"
   ]
  },
  {
   "cell_type": "markdown",
   "metadata": {},
   "source": [
    "四、请用自定义函数编程实现fun(a,b)，函数功能为：将两个三位数的整数a，b合并成一个整数c，合并规则为c的十万位、千位和十位分别是a的百位、十位和个位，而c的万位、百位和个位分别是b的百位、十位和个位。例如：输入为 a=123，b=456，则输出为 c=142536（20分）"
   ]
  },
  {
   "cell_type": "code",
   "execution_count": 25,
   "metadata": {},
   "outputs": [
    {
     "name": "stdout",
     "output_type": "stream",
     "text": [
      "142536\n"
     ]
    }
   ],
   "source": [
    "def fun(a, b):\n",
    "    x1 = a//100 * 100000\n",
    "    a -= a//100 * 100\n",
    "    x2 = b//100 * 10000\n",
    "    b -= b//100 * 100\n",
    "    x3 = a//10 * 1000\n",
    "    a -= a//10 * 10\n",
    "    x4 = b//10 * 100\n",
    "    b -= b//10 * 10\n",
    "    x5 = 10*a\n",
    "    x6 = b\n",
    "    return(x1 + x2 + x3 + x4 + x5 + x6)\n",
    "\n",
    "print(fun(123, 456))"
   ]
  },
  {
   "cell_type": "markdown",
   "metadata": {},
   "source": [
    "五、请以多项式$4x^{20}+3x^{10}+5$和多项式$2x^8+x-1$为例，使用本章中子列表形式的数据结构（第三种），编写多项式乘法和除法的Python程序。（20分）"
   ]
  },
  {
   "cell_type": "code",
   "execution_count": 48,
   "metadata": {},
   "outputs": [
    {
     "ename": "TypeError",
     "evalue": "list indices must be integers or slices, not list",
     "output_type": "error",
     "traceback": [
      "\u001b[1;31m---------------------------------------------------------------------------\u001b[0m",
      "\u001b[1;31mTypeError\u001b[0m                                 Traceback (most recent call last)",
      "\u001b[1;32m<ipython-input-48-c6d46b98a7c0>\u001b[0m in \u001b[0;36m<module>\u001b[1;34m()\u001b[0m\n\u001b[0;32m     14\u001b[0m \u001b[0mL1\u001b[0m \u001b[1;33m=\u001b[0m \u001b[1;33m[\u001b[0m\u001b[1;33m[\u001b[0m\u001b[1;36m20\u001b[0m\u001b[1;33m,\u001b[0m \u001b[1;36m4\u001b[0m\u001b[1;33m]\u001b[0m\u001b[1;33m,\u001b[0m\u001b[1;33m[\u001b[0m\u001b[1;36m10\u001b[0m\u001b[1;33m,\u001b[0m \u001b[1;36m3\u001b[0m\u001b[1;33m]\u001b[0m\u001b[1;33m,\u001b[0m \u001b[1;33m[\u001b[0m\u001b[1;36m0\u001b[0m\u001b[1;33m,\u001b[0m \u001b[1;36m5\u001b[0m\u001b[1;33m]\u001b[0m\u001b[1;33m]\u001b[0m\u001b[1;33m\u001b[0m\u001b[0m\n\u001b[0;32m     15\u001b[0m \u001b[0mL2\u001b[0m \u001b[1;33m=\u001b[0m \u001b[1;33m[\u001b[0m\u001b[1;33m[\u001b[0m\u001b[1;36m8\u001b[0m\u001b[1;33m,\u001b[0m \u001b[1;36m2\u001b[0m\u001b[1;33m]\u001b[0m\u001b[1;33m,\u001b[0m \u001b[1;33m[\u001b[0m\u001b[1;36m1\u001b[0m\u001b[1;33m,\u001b[0m \u001b[1;36m1\u001b[0m\u001b[1;33m]\u001b[0m\u001b[1;33m,\u001b[0m \u001b[1;33m[\u001b[0m\u001b[1;36m0\u001b[0m\u001b[1;33m,\u001b[0m \u001b[1;33m-\u001b[0m\u001b[1;36m1\u001b[0m\u001b[1;33m]\u001b[0m\u001b[1;33m]\u001b[0m\u001b[1;33m\u001b[0m\u001b[0m\n\u001b[1;32m---> 16\u001b[1;33m \u001b[0mmultiply\u001b[0m\u001b[1;33m(\u001b[0m\u001b[0mL1\u001b[0m\u001b[1;33m,\u001b[0m \u001b[0mL2\u001b[0m\u001b[1;33m)\u001b[0m\u001b[1;33m\u001b[0m\u001b[0m\n\u001b[0m\u001b[0;32m     17\u001b[0m \u001b[0mdivision\u001b[0m\u001b[1;33m(\u001b[0m\u001b[0mL1\u001b[0m\u001b[1;33m,\u001b[0m \u001b[0mL2\u001b[0m\u001b[1;33m)\u001b[0m\u001b[1;33m\u001b[0m\u001b[0m\n",
      "\u001b[1;32m<ipython-input-48-c6d46b98a7c0>\u001b[0m in \u001b[0;36mmultiply\u001b[1;34m(L1, L2)\u001b[0m\n\u001b[0;32m      3\u001b[0m     \u001b[1;32mfor\u001b[0m \u001b[0mi\u001b[0m \u001b[1;32min\u001b[0m \u001b[0mL1\u001b[0m\u001b[1;33m:\u001b[0m\u001b[1;33m\u001b[0m\u001b[0m\n\u001b[0;32m      4\u001b[0m         \u001b[1;32mfor\u001b[0m \u001b[0mj\u001b[0m \u001b[1;32min\u001b[0m \u001b[0mL2\u001b[0m\u001b[1;33m:\u001b[0m\u001b[1;33m\u001b[0m\u001b[0m\n\u001b[1;32m----> 5\u001b[1;33m             \u001b[0mprint\u001b[0m\u001b[1;33m(\u001b[0m\u001b[0mL1\u001b[0m\u001b[1;33m[\u001b[0m\u001b[0mi\u001b[0m\u001b[1;33m]\u001b[0m\u001b[1;33m[\u001b[0m\u001b[1;36m0\u001b[0m\u001b[1;33m]\u001b[0m\u001b[1;33m+\u001b[0m\u001b[0mL2\u001b[0m\u001b[1;33m[\u001b[0m\u001b[0mj\u001b[0m\u001b[1;33m]\u001b[0m\u001b[1;33m[\u001b[0m\u001b[1;36m0\u001b[0m\u001b[1;33m]\u001b[0m\u001b[1;33m)\u001b[0m\u001b[1;33m\u001b[0m\u001b[0m\n\u001b[0m\u001b[0;32m      6\u001b[0m             \u001b[0mp\u001b[0m \u001b[1;33m=\u001b[0m \u001b[1;33m[\u001b[0m\u001b[0mL1\u001b[0m\u001b[1;33m[\u001b[0m\u001b[0mi\u001b[0m\u001b[1;33m]\u001b[0m\u001b[1;33m[\u001b[0m\u001b[1;36m0\u001b[0m\u001b[1;33m]\u001b[0m\u001b[1;33m+\u001b[0m\u001b[0mL2\u001b[0m\u001b[1;33m[\u001b[0m\u001b[0mj\u001b[0m\u001b[1;33m]\u001b[0m\u001b[1;33m[\u001b[0m\u001b[1;36m0\u001b[0m\u001b[1;33m]\u001b[0m\u001b[1;33m,\u001b[0m \u001b[0mL1\u001b[0m\u001b[1;33m[\u001b[0m\u001b[0mi\u001b[0m\u001b[1;33m]\u001b[0m\u001b[1;33m[\u001b[0m\u001b[1;36m1\u001b[0m\u001b[1;33m]\u001b[0m\u001b[1;33m*\u001b[0m\u001b[0mL2\u001b[0m\u001b[1;33m[\u001b[0m\u001b[0mj\u001b[0m\u001b[1;33m]\u001b[0m\u001b[1;33m[\u001b[0m\u001b[1;36m1\u001b[0m\u001b[1;33m]\u001b[0m\u001b[1;33m]\u001b[0m\u001b[1;33m\u001b[0m\u001b[0m\n\u001b[0;32m      7\u001b[0m             \u001b[0mprint\u001b[0m\u001b[1;33m(\u001b[0m\u001b[0mp\u001b[0m\u001b[1;33m)\u001b[0m\u001b[1;33m\u001b[0m\u001b[0m\n",
      "\u001b[1;31mTypeError\u001b[0m: list indices must be integers or slices, not list"
     ]
    }
   ],
   "source": [
    "def multiply(L1, L2):\n",
    "    k = []\n",
    "    for i in L1:\n",
    "        for j in L2:\n",
    "            print(L1[i][0]+L2[j][0])\n",
    "            p = [L1[i][0]+L2[j][0], L1[i][1]*L2[j][1]]\n",
    "            print(p)\n",
    "            k.append(p)\n",
    "    print(k)\n",
    "    \n",
    "def division(L1, L2):\n",
    "    pass\n",
    "\n",
    "L1 = [[20, 4],[10, 3], [0, 5]]\n",
    "L2 = [[8, 2], [1, 1], [0, -1]]\n",
    "multiply(L1, L2)\n",
    "division(L1, L2)"
   ]
  },
  {
   "cell_type": "code",
   "execution_count": null,
   "metadata": {
    "collapsed": true
   },
   "outputs": [],
   "source": []
  }
 ],
 "metadata": {
  "kernelspec": {
   "display_name": "Python 3",
   "language": "python",
   "name": "python3"
  },
  "language_info": {
   "codemirror_mode": {
    "name": "ipython",
    "version": 3
   },
   "file_extension": ".py",
   "mimetype": "text/x-python",
   "name": "python",
   "nbconvert_exporter": "python",
   "pygments_lexer": "ipython3",
   "version": "3.6.1"
  }
 },
 "nbformat": 4,
 "nbformat_minor": 2
}
