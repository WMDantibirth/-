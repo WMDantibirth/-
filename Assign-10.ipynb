{
 "cells": [
  {
   "cell_type": "markdown",
   "metadata": {},
   "source": [
    "# 华东师范大学计算机科学技术系作业\n",
    "\n",
    " | 华东师范大学计算机科学技术系作业 | |\n",
    ":- | :- | :- \n",
    " 课程名称：编程导论Python | 年级：2018级| 作业成绩：\n",
    " 指导教师：兰曼 | 姓名：黎明  |  提交作业日期：2018年12月19日  \n",
    " 专业：计算机系 | 学号：101851022XX  |  作业编号： 10\n",
    " -----------------------------"
   ]
  },
  {
   "cell_type": "markdown",
   "metadata": {},
   "source": [
    "一、请证明当T(n) = $2T(n/2) + n$ ，T(1) = 0时，T(n) = $nlog_2n$，假设n是2的指数倍。\n",
    "<br/>\n",
    "（20分）"
   ]
  },
  {
   "cell_type": "markdown",
   "metadata": {
    "collapsed": true
   },
   "source": [
    "T(n)=2T(n/2)+n\n",
    "\n",
    "    =2(2T(n/4)+n/2)+n\n",
    "    =2^2T(n/4)+2n\n",
    "    =2^2(2T(n/8)+n/4)+2n\n",
    "    =2^3T(n/8)+3n\n",
    "    ^\n",
    "    =2^(log(2,n))+(log(2,n)-1)n\n",
    "    =n+(log(2,n)-1)n\n",
    "    =nlog(2,n)"
   ]
  },
  {
   "cell_type": "markdown",
   "metadata": {},
   "source": [
    "二、当T(n) = $T(n/2) + 1$ ，T(1) = 0时，假设 n 是2的指数倍，T(n)的多项式是什么？\n",
    "<br/>\n",
    "（20分）"
   ]
  },
  {
   "cell_type": "markdown",
   "metadata": {
    "collapsed": true
   },
   "source": [
    "T(n) = T(n/2) + 1\n",
    "\n",
    "     = T(n/4) + 2\n",
    "     = T(n/8) + 3\n",
    "     ^\n",
    "     = T(1) + log(2,n)\n",
    "     = 1 + log(2,n)"
   ]
  },
  {
   "cell_type": "markdown",
   "metadata": {},
   "source": [
    "三、分析用二分法的递归方式求$1+2+......+n$的开销。为什么开销的增长趋势都是以函数n的方式增长？假设T(n)代表其开销，那么T(n)的递归关系式是什么？\n",
    "<br/>\n",
    "（20分）"
   ]
  },
  {
   "cell_type": "markdown",
   "metadata": {
    "collapsed": true
   },
   "source": [
    "T(n) = 2T(n/2)+O(1)\n",
    "\n",
    "     = 2^(log(2,n))T(1) + n*O(1)\n",
    "     = O(logn) + O(n)\n",
    "     = O(n)\n",
    "所以时间复杂度为O(n), 以函数n增长\n",
    "\n",
    "T(n) = 2T(n/2)+O(1)"
   ]
  },
  {
   "cell_type": "code",
   "execution_count": 28,
   "metadata": {},
   "outputs": [
    {
     "name": "stdout",
     "output_type": "stream",
     "text": [
      "7.7785237762861925\n",
      "8.010319618211724\n",
      "8.191142946167702\n",
      "7.437423211313671\n",
      "这几个数几乎都是相同的，所以线性增长，即以函数n增长\n"
     ]
    }
   ],
   "source": [
    "import time\n",
    "\n",
    "def f(L):\n",
    "    if len(L) == 1:return L[0]\n",
    "    if len(L) == 0:return 0\n",
    "    return(f(L[:len(L)//2])+f(L[len(L)//2:]))\n",
    "\n",
    "\n",
    "X = [] \n",
    "p = 5\n",
    "n = 10000000\n",
    "while p:\n",
    "    L = [i+1 for i in range(n)]\n",
    "    start = time.clock()\n",
    "    f(L)\n",
    "    end = time.clock()\n",
    "    t = end-start\n",
    "    X.append(t)\n",
    "    n+=10000000\n",
    "    p-=1\n",
    "for i in range(1,len(X)):\n",
    "    print(X[i]-X[i-1])\n",
    "print('这几个数几乎都是相同的，所以线性增长，即以函数n增长')"
   ]
  },
  {
   "cell_type": "markdown",
   "metadata": {},
   "source": [
    "四、已知角谷定理：输入一个自然数，若为偶数，则把它除以2，若为奇数，则把它乘以3加1，经过如此有限次运算后，总可以得到自然数1。用递归方式实现：输入任意一个自然数，输出经过多少次可以得到自然数1。\n",
    "<br/>\n",
    "（20分）"
   ]
  },
  {
   "cell_type": "code",
   "execution_count": 2,
   "metadata": {},
   "outputs": [
    {
     "data": {
      "text/plain": [
       "25"
      ]
     },
     "execution_count": 2,
     "metadata": {},
     "output_type": "execute_result"
    }
   ],
   "source": [
    "def jg(n,i=0):\n",
    "    if n == 1:return i\n",
    "    if n%2: return jg(3*n+1,i+1)\n",
    "    else: return jg(n//2,i+1)\n",
    "    \n",
    "    \n",
    "jg(99)"
   ]
  },
  {
   "cell_type": "markdown",
   "metadata": {},
   "source": [
    "五、请用非递归方式实现归并排序。\n",
    "<br/>\n",
    "（20分）"
   ]
  },
  {
   "cell_type": "code",
   "execution_count": 33,
   "metadata": {},
   "outputs": [
    {
     "name": "stdout",
     "output_type": "stream",
     "text": [
      "[0, 1, 2, 3, 4, 5, 5, 7, 9, 11]\n"
     ]
    }
   ],
   "source": [
    "def merge(seq,low,mid,height):\n",
    "    left = seq[low:mid]\n",
    "    right = seq[mid:height]\n",
    "\n",
    "    k = 0 \n",
    "    j = 0 \n",
    "    result = [] \n",
    "    while k < len(left) and j < len(right):\n",
    "        if left[k] <= right[j]:\n",
    "            result.append(left[k])\n",
    "            k += 1\n",
    "        else:\n",
    "            result.append(right[j])\n",
    "            j += 1\n",
    "    result += left[k:]\n",
    "    result += right[j:]\n",
    "    seq[low:height] = result\n",
    "    \n",
    "def main(seq):\n",
    "    i = 1\n",
    "    while i < len(seq):\n",
    "        low = 0\n",
    "        while low < len(seq):\n",
    "            mid = low + i\n",
    "            height = min(low + 2 * i, len(seq))\n",
    "            if mid < height:\n",
    "                merge(seq,low,mid,height)\n",
    "            low += 2*i\n",
    "        i *= 2\n",
    "    print(seq)\n",
    "    \n",
    "L = [5, 4, 3, 0, 1, 2, 7, 5, 11,9]\n",
    "main(L)"
   ]
  }
 ],
 "metadata": {
  "kernelspec": {
   "display_name": "Python 3",
   "language": "python",
   "name": "python3"
  },
  "language_info": {
   "codemirror_mode": {
    "name": "ipython",
    "version": 3
   },
   "file_extension": ".py",
   "mimetype": "text/x-python",
   "name": "python",
   "nbconvert_exporter": "python",
   "pygments_lexer": "ipython3",
   "version": "3.6.1"
  }
 },
 "nbformat": 4,
 "nbformat_minor": 2
}
