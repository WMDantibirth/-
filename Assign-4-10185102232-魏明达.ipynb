{
 "cells": [
  {
   "cell_type": "markdown",
   "metadata": {},
   "source": [
    "# 华东师范大学计算机科学技术系作业\n",
    "\n",
    " | 华东师范大学计算机科学技术系作业 | |\n",
    ":- | :- | :- \n",
    " 课程名称：编程导论Python | 年级：2018级| 作业成绩：\n",
    " 指导教师：兰曼 | 姓名：魏明达  |  提交作业日期：2018年10月31日  \n",
    " 专业：计算机系 | 学号：10185102232|  作业编号： 4\n",
    " -----------------------------"
   ]
  },
  {
   "cell_type": "markdown",
   "metadata": {},
   "source": [
    "一、 第1章介绍了合并两个有序列表，使得合并后的列表仍然有序的问题，并写出了解决该问题的算法，但是没有给出具体的python代码。\n",
    "<br/>\n",
    "    现在将上述问题用函数merge(L1,L2)来实现，该函数的功能为：输入参数是两个从小到大排好序的整数列表L1和L2，返回合成后的从小到大排好序的大列表X。例如，merge([1,4,5],[2,7])会返回[1,2,4,5,7]；merge([],[2,3,4])会返回[2,3,4]。请按下列要求用python实现该函数。\n",
    "<br/>\n",
    "    要求：\n",
    "<br/>\n",
    "    （1）程序中比较两列表元素大小的次数不能超过len(L1)+len(L2)。\n",
    "<br/>\n",
    "    （2）只能用列表append()和len()函数。\n",
    "<br/>\n",
    "（20分）"
   ]
  },
  {
   "cell_type": "code",
   "execution_count": 3,
   "metadata": {},
   "outputs": [
    {
     "name": "stdout",
     "output_type": "stream",
     "text": [
      "[1, 2, 4, 5, 7]\n"
     ]
    }
   ],
   "source": [
    "def merge(L1, L2):\n",
    "    if L1 == []:\n",
    "        return L2\n",
    "    elif L2 == []:\n",
    "        return L1\n",
    "    else:\n",
    "        L = []\n",
    "        i = 0\n",
    "        j = 0\n",
    "        while len(L1)>i and len(L2)>j:\n",
    "            if L1[i] < L2[j]:\n",
    "                L.append(L1[i])\n",
    "                i += 1\n",
    "            else:\n",
    "                L.append(L2[j])\n",
    "                j += 1\n",
    "        if len(L1)<=i:\n",
    "            for each in range(j, len(L2)):\n",
    "                L.append(L2[each])\n",
    "        else:\n",
    "            for each in range(i, len(L1)):\n",
    "                L.append(L1[each])\n",
    "        return L\n",
    "\n",
    "    \n",
    "L1 = [1, 4, 5]\n",
    "L2 = [2, 7]\n",
    "print(merge(L1, L2)) "
   ]
  },
  {
   "cell_type": "markdown",
   "metadata": {},
   "source": [
    "二、\t请改写本章中<程序：整数的十-二进制转换>python程序，完成十进制到二进制的包括小数的转换。输入是一个带小数点的十进制数，输出是一个带有小数点的二进制数，假设精确度是8位。\n",
    "<br/>\n",
    "（20分）"
   ]
  },
  {
   "cell_type": "code",
   "execution_count": 1,
   "metadata": {},
   "outputs": [
    {
     "name": "stdout",
     "output_type": "stream",
     "text": [
      "1024.875\n",
      "10000000000.111\n"
     ]
    }
   ],
   "source": [
    "def fun1(a):\n",
    "    x = int(a)\n",
    "    r = 0\n",
    "    Rs = []\n",
    "    while x:\n",
    "        r = x % 2\n",
    "        x //= 2\n",
    "        Rs = [r] + Rs\n",
    "    ans = ''\n",
    "    for i in range(len(Rs)):\n",
    "        ans = ans + str(Rs[i])\n",
    "    return ans\n",
    "\n",
    "\n",
    "def fun2(a):\n",
    "    a = float('0.' + a)\n",
    "    k = ''\n",
    "    x = 0.5\n",
    "    while len(k) <= 8 and a != 0:\n",
    "        if a >= x:\n",
    "            k = k + '1'\n",
    "            a = a - x\n",
    "        else:\n",
    "            k = k + '0'\n",
    "        x /= 2\n",
    "    return k\n",
    "\n",
    "\n",
    "b = str(float(input()))\n",
    "x, y = b.split('.')\n",
    "x = fun1(x)\n",
    "y = fun2(y)\n",
    "print(x+'.'+y)\n"
   ]
  },
  {
   "cell_type": "markdown",
   "metadata": {},
   "source": [
    "三、黑色星期五（13号是一个星期五）。 13号在星期五比在其他日子少吗 ?为了回答这个问题 ,写一个程序，要求计算每个月的13号分别为周一到周日的次数。给出N年的一个周期，要求计算1900年1月1日至1900+N-1年12月31日中13号落在周一到周日的次数，N为正整数且不大于400。\n",
    "<br/>\n",
    "输入为：一个数字N。\n",
    "<br/>\n",
    "输出为：7个整数，分别表示13号在周一到周日的次数。\n",
    "<br/>\n",
    "提示：\n",
    "<br/>\n",
    "（1）1900年1月1日是星期一。\n",
    "<br/>\n",
    "（2）4、6、9和11月有30天，其他月份除了2月都有31天。闰年2月有29天，平年2月有28天。\n",
    "<br/>\n",
    "（3）年份可以被4整除的为闰年(1992=4*498 所以 1992年是闰年,但是1990年不是闰年)\n",
    "<br/>\n",
    "（4）以上规则不适合于世纪年。可以被400整除的世纪年为闰年,否则为平年。所以,1700,1800,1900和2100年是平,而2000是闰年。\n",
    "<br/>\n",
    "（20分）"
   ]
  },
  {
   "cell_type": "code",
   "execution_count": 16,
   "metadata": {},
   "outputs": [
    {
     "name": "stdout",
     "output_type": "stream",
     "text": [
      "2\n",
      "[2, 4, 4, 3, 4, 4, 3]\n"
     ]
    }
   ],
   "source": [
    "def run(n):\n",
    "    if (n + 1900) % 4 == 0 and not ((n + 1900) % 400 and (1900 + n) % 100 == 0):\n",
    "        return 1\n",
    "    else:\n",
    "        return 0\n",
    "\n",
    "\n",
    "def plus(k):\n",
    "    if 0 <= k <= 5:\n",
    "        k += 1\n",
    "    else:\n",
    "        k = 0\n",
    "    return k\n",
    "\n",
    "\n",
    "def num(N, k, L):\n",
    "    if run(N):\n",
    "        month = [31, 29, 31, 30, 31, 30, 31, 31, 30, 31, 30, 31]\n",
    "    else:\n",
    "        month = [31, 28, 31, 30, 31, 30, 31, 31, 30, 31, 30, 31]\n",
    "    for j in month:\n",
    "        for i in range(j):\n",
    "            if i == 12:\n",
    "                L[k] += 1\n",
    "            k = plus(k)\n",
    "    return L, k\n",
    "\n",
    "\n",
    "N = int(input())\n",
    "k = 0\n",
    "L = [0 for i in range(7)]\n",
    "for i in range(N):\n",
    "    L, k = num(i, k, L)\n",
    "print(L)\n"
   ]
  },
  {
   "cell_type": "markdown",
   "metadata": {},
   "source": [
    "四、挤牛奶，三个农民每天清晨5点起床，然后去牛棚给3头牛挤奶。第一个农民在300秒(从5点开始计时)给他的牛挤奶，一直挤到1000秒。第二个农民在700秒开始，在1200秒结束。第三个农民在1500秒开始，2100秒结束。期间至少有一个农民在挤奶的最长连续时为900秒(从300秒到1200秒)，而无人挤奶的最长连续时间 (从挤奶开始一直到挤奶结束)为300秒(从1200秒到1500秒)。\n",
    "<br/>\n",
    "要求编一个Python程序，输入N个农民 (1 <= N <= 5000)挤N头牛的工作时间列表，计算以下两个问题（均以s(秒)为单位）： \n",
    "<br/>\n",
    "（1）最长至少有一人在挤奶的时间段。\n",
    "<br/>\n",
    "（2）最长的无人挤奶时间段（从有人挤奶开始算起）。\n",
    "<br/>\n",
    "例如，输入为：[[300,1000],[700,1200],[1500,2100]]，则该输入的每一个元素为一个农民的挤奶时间段。输出：900 300。\n",
    "<br/>\n",
    "（20分）"
   ]
  },
  {
   "cell_type": "code",
   "execution_count": 20,
   "metadata": {},
   "outputs": [
    {
     "name": "stdout",
     "output_type": "stream",
     "text": [
      "900 300\n"
     ]
    }
   ],
   "source": [
    "def sor(L):    # sort L in bubble\n",
    "    n = len(L)\n",
    "    for j in range(0, n-1):\n",
    "        for i in range(0, n-1-j):\n",
    "            if L[i][0] > L[i+1][0]:\n",
    "                L[i], L[i+1] = L[i+1], L[i]\n",
    "    return L\n",
    "\n",
    "\n",
    "def fun(k):  # k is a list\n",
    "    end = 0\n",
    "    star = 0\n",
    "    L = []      # a list to store the continuous time\n",
    "    for i in range(1, len(k)):\n",
    "        if k[i][0] < k[end][1] < k[i][1]:\n",
    "            end = i\n",
    "        elif k[i][0] > k[end][1]:\n",
    "            L.append([k[star][0], k[end][1]])\n",
    "            end = i\n",
    "            star = i\n",
    "    L.append([k[star][0], k[end][1]])\n",
    "    return L\n",
    "\n",
    "\n",
    "def time_in(L):     # the longest time that have at least one person working\n",
    "    n = []\n",
    "    for i in L:\n",
    "        n.append(i[1]-i[0])\n",
    "    x = max(n)\n",
    "    return x\n",
    "\n",
    "\n",
    "def time_out(L):    # the longest time that has nobody working\n",
    "    n = []\n",
    "    for i in range(1, len(L)):\n",
    "        n.append(L[i][0] - L[i-1][1])\n",
    "    x = max(n)\n",
    "    return x\n",
    "\n",
    "\n",
    "P = [[300, 1000], [700, 1200], [1500, 2100]]\n",
    "s = fun(sor(P))     # the s has been sorted\n",
    "print(time_in(s), end=' ')\n",
    "print(time_out(s))\n"
   ]
  },
  {
   "cell_type": "markdown",
   "metadata": {},
   "source": [
    "五、编写一个 Python程序，求回文平方数。给定一个进制B(2<=B<=10,由十进制表示)，输出所有满足以下条件的十进制数 N，条件：\n",
    "<br/>\n",
    "（1）1<=N<=300。\n",
    "<br/>\n",
    "（2）N的平方用B进制表示时是回文数，即回文平方数。\n",
    "<br/>\n",
    "例如，输入为：K=2。\n",
    "<br/>\n",
    "输出为：\n",
    "<br/>\n",
    "1 $\\quad$ 1 $\\quad$ 1\n",
    "<br/>\n",
    "3 $\\quad$ 9 $\\quad$ 1001\n",
    "<br/>\n",
    "输出中，每一行的第一个数为回文平方（十进制表示），第二列为该数的平方（十进制），第三列为平方的K进制表示。\n",
    "<br/>\n",
    "（20分）"
   ]
  },
  {
   "cell_type": "code",
   "execution_count": 8,
   "metadata": {},
   "outputs": [
    {
     "name": "stdout",
     "output_type": "stream",
     "text": [
      "2\n",
      "1 1 1\n",
      "3 9 1001\n"
     ]
    }
   ],
   "source": [
    "def fun(x, t):\n",
    "    l = []\n",
    "    while x:\n",
    "        r = x % t\n",
    "        x //= t\n",
    "        l.append(r)\n",
    "    ans = ''\n",
    "    for i in l:\n",
    "        ans = ans + str(i)\n",
    "    return ans\n",
    "\n",
    "\n",
    "B = int(input())\n",
    "L = []\n",
    "for n in range(1, 301):\n",
    "    k = n * n\n",
    "    p = fun(k, B)\n",
    "    if p == p[::-1]:\n",
    "        L.append(n)\n",
    "for each in L:\n",
    "    print(each, end=' ')\n",
    "    print(each**2, end=' ')\n",
    "    print(fun(each**2, B))\n"
   ]
  }
 ],
 "metadata": {
  "kernelspec": {
   "display_name": "Python 3",
   "language": "python",
   "name": "python3"
  },
  "language_info": {
   "codemirror_mode": {
    "name": "ipython",
    "version": 3
   },
   "file_extension": ".py",
   "mimetype": "text/x-python",
   "name": "python",
   "nbconvert_exporter": "python",
   "pygments_lexer": "ipython3",
   "version": "3.6.6"
  }
 },
 "nbformat": 4,
 "nbformat_minor": 2
}
