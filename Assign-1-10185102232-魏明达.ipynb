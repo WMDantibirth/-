{
 "cells": [
  {
   "cell_type": "markdown",
   "metadata": {},
   "source": [
    "### 华东师范大学计算机科学技术系作业\n",
    "\n",
    " | 华东师范大学计算机科学技术系作业 | |\n",
    ":- | :- | :- \n",
    " 课程名称：编程导论Python | 年级：2018级| 作业成绩：\n",
    " 指导教师：兰曼 | 姓名：魏明达  |  提交作业日期：2018年9月30日  \n",
    " 专业：计算机系 | 学号：10185102232  |  作业编号： 1 \n",
    " -----------------------------"
   ]
  },
  {
   "cell_type": "markdown",
   "metadata": {},
   "source": [
    "一、"
   ]
  },
  {
   "cell_type": "code",
   "execution_count": 6,
   "metadata": {},
   "outputs": [
    {
     "name": "stdout",
     "output_type": "stream",
     "text": [
      "6\n",
      "0\n",
      "8\n",
      "16\n",
      "2.0\n",
      "2\n",
      "0.5714285714285714\n",
      "0\n"
     ]
    }
   ],
   "source": [
    "a = 4; b = 2; c = 7\n",
    "print(a+b); print(a%b); print(a*b); print(a**b); print(a/b)\n",
    "print(a//b); print(a/c); print(a//c)"
   ]
  },
  {
   "cell_type": "markdown",
   "metadata": {},
   "source": [
    "二、"
   ]
  },
  {
   "cell_type": "code",
   "execution_count": 7,
   "metadata": {},
   "outputs": [
    {
     "name": "stdout",
     "output_type": "stream",
     "text": [
      "False\n",
      "True\n",
      "True\n",
      "False\n",
      "False\n",
      "True\n"
     ]
    }
   ],
   "source": [
    "a=True; b=False; c=True\n",
    "print(a and b); print(a or b); print(not (a and b)); print(not(a or b)); print((a or a) and b and (a or b))\n",
    "print((a and not b) or (not a or b))"
   ]
  },
  {
   "cell_type": "markdown",
   "metadata": {},
   "source": [
    "三、"
   ]
  },
  {
   "cell_type": "code",
   "execution_count": 9,
   "metadata": {},
   "outputs": [
    {
     "name": "stdout",
     "output_type": "stream",
     "text": [
      "0 1 2 3 2 1\n",
      "x = -1.00000, y = 2.00000\n"
     ]
    }
   ],
   "source": [
    "a0, b0, c0, a1, b1, c1 = map(float, input().split())\n",
    "if a0 * b1 == a1 * b0:\n",
    "    if a0*c1 != a1*c0:\n",
    "        print('No answer')\n",
    "    else:\n",
    "        print('Infinite answer')\n",
    "else:\n",
    "    t = a0 * b1 - a1 * b0\n",
    "    x = (b1*c0-b0*c1) / t\n",
    "    y = (c1*a0-a1*c0) / t\n",
    "    print('x = %.5f, y = %.5f' % (x, y))\n"
   ]
  },
  {
   "cell_type": "markdown",
   "metadata": {},
   "source": [
    "四、"
   ]
  },
  {
   "cell_type": "code",
   "execution_count": 3,
   "metadata": {},
   "outputs": [
    {
     "name": "stdout",
     "output_type": "stream",
     "text": [
      "1 1 1 3 2 1 1 4 1 2 1 4\n",
      "x = 1.00000, y= 1.00000, z = 1.00000\n"
     ]
    }
   ],
   "source": [
    "import numpy as np\n",
    "\n",
    "a1, b1, c1, d1, a2, b2, c2, d2, a3, b3, c3, d3 = map(int, input().split())\n",
    "m = np.array([[a1, b1, c1], [a2, b2, c2], [a3, b3, c3]])\n",
    "n = np.array([d1, d2, d3])\n",
    "if np.linalg.det(m) == 0:\n",
    "    if a1*d2 == a2*d1 and a1*d3 == a3*d1 and a2*d3 == a3*d2:\n",
    "        print('Infinite answer')\n",
    "    else:\n",
    "        print('No answer')\n",
    "else:\n",
    "    ans = np.linalg.solve(m, n)\n",
    "    x = ans[0]\n",
    "    y = ans[1]\n",
    "    z = ans[2]\n",
    "    print('x = %.5f, y= %.5f, z = %.5f' % (x, y, z))\n"
   ]
  },
  {
   "cell_type": "markdown",
   "metadata": {},
   "source": [
    "五、"
   ]
  },
  {
   "cell_type": "code",
   "execution_count": 4,
   "metadata": {},
   "outputs": [
    {
     "name": "stdout",
     "output_type": "stream",
     "text": [
      "4 5 2 1 0 3 2 1 0 9\n",
      "9 5 4 3 2 2 1 1 0 0 "
     ]
    }
   ],
   "source": [
    "list1 = [int(each) for each in input().split()]   # 输入的数\n",
    "list1.sort(reverse=True)    # 倒序排序\n",
    "for each in list1:  # 打印结果\n",
    "    print(each, end=' ')\n"
   ]
  },
  {
   "cell_type": "markdown",
   "metadata": {},
   "source": [
    "六、"
   ]
  },
  {
   "cell_type": "code",
   "execution_count": 7,
   "metadata": {},
   "outputs": [
    {
     "name": "stdout",
     "output_type": "stream",
     "text": [
      "2\n",
      "[1, 4, 4]\n"
     ]
    }
   ],
   "source": [
    "n = int(input())    # 给定的n\n",
    "\n",
    "list1 = [1]\n",
    "i = 1\n",
    "for each in range(1, n+1):\n",
    "    i = 2 * i * (n-each+1) // each\n",
    "    list1.append(i)\n",
    "print(list1)\n"
   ]
  },
  {
   "cell_type": "markdown",
   "metadata": {},
   "source": [
    "七、"
   ]
  },
  {
   "cell_type": "code",
   "execution_count": 12,
   "metadata": {},
   "outputs": [
    {
     "name": "stdout",
     "output_type": "stream",
     "text": [
      "1\n",
      "3\n",
      "5\n",
      "7\n",
      "9\n",
      "11\n",
      "13\n",
      "15\n",
      "17\n",
      "19\n",
      "21\n",
      "23\n",
      "25\n",
      "27\n",
      "29\n",
      "31\n",
      "33\n",
      "35\n",
      "37\n",
      "39\n",
      "41\n",
      "43\n",
      "45\n",
      "47\n",
      "49\n",
      "51\n",
      "53\n",
      "55\n",
      "57\n",
      "59\n",
      "61\n",
      "63\n",
      "65\n",
      "67\n",
      "69\n",
      "71\n",
      "73\n",
      "75\n",
      "77\n",
      "79\n",
      "81\n",
      "83\n",
      "85\n",
      "87\n",
      "89\n",
      "91\n",
      "93\n",
      "95\n",
      "97\n",
      "99\n"
     ]
    }
   ],
   "source": [
    "for each in range(1, 101):\n",
    "    if each % 2:\t# 奇数检测\n",
    "        print(each)\n"
   ]
  },
  {
   "cell_type": "markdown",
   "metadata": {},
   "source": [
    "八、"
   ]
  },
  {
   "cell_type": "markdown",
   "metadata": {},
   "source": [
    "第一种（使用break）："
   ]
  },
  {
   "cell_type": "code",
   "execution_count": 13,
   "metadata": {},
   "outputs": [
    {
     "name": "stdout",
     "output_type": "stream",
     "text": [
      "有负数\n"
     ]
    }
   ],
   "source": [
    "a = [1, 2, 3, 0, -1, -99.3, 5, 6, -1]\n",
    "for n in range(len(a)):\n",
    "    if a[n] < 0:\n",
    "        print('有负数')\n",
    "        break\n",
    "    elif n == len(a)-1 and a[n] >= 0:\n",
    "        print('无负数')\n"
   ]
  },
  {
   "cell_type": "markdown",
   "metadata": {},
   "source": [
    "第二种（不使用break）："
   ]
  },
  {
   "cell_type": "code",
   "execution_count": 15,
   "metadata": {},
   "outputs": [
    {
     "name": "stdout",
     "output_type": "stream",
     "text": [
      "有负数\n"
     ]
    }
   ],
   "source": [
    "def fun1(a):\n",
    "    for each in a:\n",
    "        if each < 0:\n",
    "            return '有负数'\n",
    "    return '无负数'\n",
    "\n",
    "\n",
    "a = [1, 2, 3, 0, -1, -99.3, 5, 6, -1]\n",
    "print(fun1(a))\n"
   ]
  },
  {
   "cell_type": "markdown",
   "metadata": {},
   "source": [
    "九、"
   ]
  },
  {
   "cell_type": "code",
   "execution_count": 16,
   "metadata": {},
   "outputs": [],
   "source": [
    "i = 1\n",
    "while i <= 100:\n",
    "    i += 2\n"
   ]
  },
  {
   "cell_type": "markdown",
   "metadata": {},
   "source": [
    "十、"
   ]
  },
  {
   "cell_type": "code",
   "execution_count": 20,
   "metadata": {},
   "outputs": [
    {
     "name": "stdout",
     "output_type": "stream",
     "text": [
      "1 2 3 4 5\n",
      "[1, 3, 6, 10, 15]\n"
     ]
    }
   ],
   "source": [
    "L = [int(n) for n in input().split()]   # 正整数列表\n",
    "length = len(L)\n",
    "L2 = []\n",
    "for x in range(1, length+1):\n",
    "    L2.append(sum(L[:x]))\n",
    "print(L2)\n"
   ]
  },
  {
   "cell_type": "markdown",
   "metadata": {},
   "source": [
    "十一、"
   ]
  },
  {
   "cell_type": "code",
   "execution_count": 21,
   "metadata": {},
   "outputs": [
    {
     "name": "stdout",
     "output_type": "stream",
     "text": [
      "★★★★★★★★★\n",
      "★我喜欢编程导论★\n",
      "★★★★★★★★★\n"
     ]
    }
   ],
   "source": [
    "print(chr(0x2605)*9)\n",
    "print(chr(0x2605)+'我喜欢编程导论'+chr(0x2605))\n",
    "print(chr(0x2605)*9)\n"
   ]
  },
  {
   "cell_type": "markdown",
   "metadata": {},
   "source": [
    "十二、"
   ]
  },
  {
   "cell_type": "code",
   "execution_count": 22,
   "metadata": {},
   "outputs": [
    {
     "name": "stdout",
     "output_type": "stream",
     "text": [
      "         X\n",
      "        XXX\n",
      "       XXXXX\n",
      "      XXXXXXX\n",
      "     XXXXXXXXX\n",
      "    XXXXXXXXXXX\n",
      "   XXXXXXXXXXXXX\n",
      "  XXXXXXXXXXXXXXX\n",
      " XXXXXXXXXXXXXXXXX\n",
      "XXXXXXXXXXXXXXXXXXX\n"
     ]
    }
   ],
   "source": [
    "for n in range(10):\n",
    "    print(' '*(9-n) + 'X'*(2*n+1))\n"
   ]
  },
  {
   "cell_type": "markdown",
   "metadata": {},
   "source": [
    "十三、"
   ]
  },
  {
   "cell_type": "markdown",
   "metadata": {},
   "source": [
    "用for："
   ]
  },
  {
   "cell_type": "code",
   "execution_count": 1,
   "metadata": {},
   "outputs": [
    {
     "name": "stdout",
     "output_type": "stream",
     "text": [
      "1 2 3 4 5\n",
      "[5, 4, 3, 2, 1]\n"
     ]
    }
   ],
   "source": [
    "L = [int(each) for each in input().split()]\n",
    "L1 = []\n",
    "for n in range(len(L)):\n",
    "    L1.append(L[len(L)-n-1])\n",
    "print(L1)\n"
   ]
  },
  {
   "cell_type": "markdown",
   "metadata": {},
   "source": [
    "用while："
   ]
  },
  {
   "cell_type": "code",
   "execution_count": 3,
   "metadata": {},
   "outputs": [
    {
     "name": "stdout",
     "output_type": "stream",
     "text": [
      "1 2 3 4 5\n",
      "[5, 4, 3, 2, 1]\n"
     ]
    }
   ],
   "source": [
    "L = [int(each) for each in input().split()]\n",
    "L1 = []\n",
    "n = 1\n",
    "while n <= len(L):\n",
    "    L1.append(L[len(L)-n])\n",
    "    n += 1\n",
    "print(L1)\n"
   ]
  },
  {
   "cell_type": "markdown",
   "metadata": {},
   "source": [
    "十四、"
   ]
  },
  {
   "cell_type": "code",
   "execution_count": 23,
   "metadata": {},
   "outputs": [
    {
     "name": "stdout",
     "output_type": "stream",
     "text": [
      "I love python\n",
      "Ilovepython\n"
     ]
    }
   ],
   "source": [
    "S = input()     # 给定字符串\n",
    "v = S.replace(' ', '')\n",
    "print(v)\n"
   ]
  },
  {
   "cell_type": "markdown",
   "metadata": {},
   "source": [
    "十五、"
   ]
  },
  {
   "cell_type": "code",
   "execution_count": 10,
   "metadata": {},
   "outputs": [
    {
     "name": "stdout",
     "output_type": "stream",
     "text": [
      "1,2,3,4,5\n"
     ]
    }
   ],
   "source": [
    "def fun(L):\n",
    "    s = ''\n",
    "    for i in range(len(L)):\n",
    "        L[i] = str(L[i])\n",
    "        if L[i].isdigit():\n",
    "            s += L[i]\n",
    "            if i != len(L)-1:\n",
    "                s += ','\n",
    "    print(s)\n",
    "\n",
    "if __name__ == '__main__':\n",
    "    L = [1, 2, 3, 4, 5]\n",
    "    fun(L)"
   ]
  },
  {
   "cell_type": "markdown",
   "metadata": {},
   "source": [
    "十六、"
   ]
  },
  {
   "cell_type": "code",
   "execution_count": 24,
   "metadata": {},
   "outputs": [
    {
     "name": "stdout",
     "output_type": "stream",
     "text": [
      "3.5\n",
      "True\n"
     ]
    }
   ],
   "source": [
    "s = input()\n",
    "try:\n",
    "    float(s)\n",
    "except ValueError:\n",
    "    print('False')\n",
    "else:\n",
    "    print('True')\n"
   ]
  },
  {
   "cell_type": "markdown",
   "metadata": {},
   "source": [
    "十七、"
   ]
  },
  {
   "cell_type": "code",
   "execution_count": 25,
   "metadata": {},
   "outputs": [
    {
     "name": "stdout",
     "output_type": "stream",
     "text": [
      "ABCBA\n",
      "是回文字符串\n"
     ]
    }
   ],
   "source": [
    "s = input()\n",
    "if s == s[::-1]:\n",
    "    print('是回文字符串')\n",
    "else:\n",
    "    print('不是回文字符串')\n"
   ]
  }
 ],
 "metadata": {
  "kernelspec": {
   "display_name": "Python 3",
   "language": "python",
   "name": "python3"
  },
  "language_info": {
   "codemirror_mode": {
    "name": "ipython",
    "version": 3
   },
   "file_extension": ".py",
   "mimetype": "text/x-python",
   "name": "python",
   "nbconvert_exporter": "python",
   "pygments_lexer": "ipython3",
   "version": "3.7.0"
  }
 },
 "nbformat": 4,
 "nbformat_minor": 2
}
