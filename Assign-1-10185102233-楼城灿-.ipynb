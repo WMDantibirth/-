{
 "cells": [
  {
   "cell_type": "markdown",
   "metadata": {},
   "source": [
    "### 华东师范大学计算机科学技术系作业\n",
    "\n",
    " | 华东师范大学计算机科学技术系作业 | |\n",
    ":- | :- | :- \n",
    " 课程名称：编程导论Python | 年级：2018级| 作业成绩：\n",
    " 指导教师：兰曼 | 姓名：楼城灿  |  提交作业日期：2018年10月8日  \n",
    " 专业：计算机系 | 学号：10185102233 |  作业编号： 1 \n",
    " -----------------------------"
   ]
  },
  {
   "cell_type": "markdown",
   "metadata": {},
   "source": [
    "一、\t已知变量a=4，b=2，c=7,请分别写出下列表达式语句中变量x的值。（8分）\n",
    "\n",
    "（1）x=a+b （2）x=a%b （3）x=a\\*b （4）x=a**b\n",
    "\n",
    "（5）x=a/b （6）x=a//b （7）x=a/c （8）x=a//c"
   ]
  },
  {
   "cell_type": "code",
   "execution_count": 6,
   "metadata": {},
   "outputs": [
    {
     "name": "stdout",
     "output_type": "stream",
     "text": [
      "1)  11\n",
      "2)  0\n",
      "3)  8\n",
      "4)  16\n",
      "5)  2.0\n",
      "6)  2\n",
      "7)  0.5714285714285714\n",
      "8)  0\n"
     ]
    }
   ],
   "source": [
    "a=4;b=2;c=7\n",
    "print(\"1) \",a+c)\n",
    "print(\"2) \",a%b)\n",
    "print(\"3) \",a*b)\n",
    "print(\"4) \",a**b)\n",
    "print(\"5) \",a/b)\n",
    "print(\"6) \",a//b)\n",
    "print(\"7) \",a/c)\n",
    "print(\"8) \",a//c)"
   ]
  },
  {
   "cell_type": "markdown",
   "metadata": {},
   "source": [
    "二、\t已知布尔类型变量 a=True，b=False，c=True，请分别求出下面表达式的布尔值。(6分)\n",
    "\n",
    "（1）a and b （2）a or b （3）not (a and b) （4）not(a or b)\n",
    "\n",
    "（5）(a or a) and b and (a or b) （6）(a and not b) or (not a or b)"
   ]
  },
  {
   "cell_type": "code",
   "execution_count": 4,
   "metadata": {},
   "outputs": [
    {
     "name": "stdout",
     "output_type": "stream",
     "text": [
      "1)  False\n",
      "2)  True\n",
      "3)  True\n",
      "4)  False\n",
      "5)  False\n",
      "6)  True\n"
     ]
    }
   ],
   "source": [
    "a=False; b=True\n",
    "print(\"1) \",a and b)\n",
    "print(\"2) \",a or b)\n",
    "print(\"3) \",not(a and b))\n",
    "print(\"4) \",not(a or b))\n",
    "print(\"5) \",(a or a)and b and (a and b))\n",
    "print(\"6) \",(a and not b)or(not a or b))      "
   ]
  },
  {
   "cell_type": "markdown",
   "metadata": {},
   "source": [
    "三、\t改进<程序：求二维线性方程组例子2>，使其能考虑当系数为0时的特殊情况并求解。（5分）"
   ]
  },
  {
   "cell_type": "code",
   "execution_count": null,
   "metadata": {},
   "outputs": [],
   "source": [
    "if a0==0:\n",
    "    y=c0/b0\n",
    "    x=(c1-b1*y)/a1\n",
    "elif a1==0:\n",
    "    y=c1/b1\n",
    "    x=(c0-b0*y)/a0\n",
    "elif ((b==0)and (c==0)):\n",
    "    print(\"infinite solution\")\n",
    "elif (b==0):print(\"no solution\")\n",
    "else:\n",
    "    y=c/b\n",
    "    x=(c0-b0*y)/a0\n",
    "    print(\"x= %.5f,y= %.5f\"%(x,y))\n",
    "    \n",
    "    "
   ]
  },
  {
   "cell_type": "markdown",
   "metadata": {},
   "source": [
    "四、\t请试写一个程序求解三维线性方组。（在本书第五章“熟练递归编程”章节中会讲到如何设计简单程序来解决n维线性方程组的求解问题。）（8分）"
   ]
  },
  {
   "cell_type": "code",
   "execution_count": 12,
   "metadata": {},
   "outputs": [
    {
     "name": "stdout",
     "output_type": "stream",
     "text": [
      "all zeroes\n"
     ]
    }
   ],
   "source": [
    "def solve(a,b):\n",
    "    for i in range(len(b)):\n",
    "        if a[i][0]!=0:base=i;break\n",
    "    else:print(\"all zeroes\");return False,[]\n",
    "    if base!=0:\n",
    "        a[0],a[base]=a[base],a[0]\n",
    "        b[0],b[base]=b[base],b[0]\n",
    "    c1=a[0][0]\n",
    "    anew=[];bnew=[]\n",
    "    for i in range(1,len(b)):\n",
    "        if a[i][0]!=0:\n",
    "            A=[];c2=a[i][0]\n",
    "            for j in range(1,len(b)):\n",
    "                t=a[i][j]*c1-c2*a[0][j]\n",
    "                A.append(t)\n",
    "            anew.append(A)\n",
    "            bnew.append(b[i]*c1-c2*b[0])\n",
    "        else:\n",
    "            anew.append(a[i][1:len(b)])\n",
    "            bnew.append(b[i])\n",
    "    flag,ans1=solve(anew,bnew)\n",
    "    if flag==False:return False,ans1\n",
    "    t=0\n",
    "    for i in range(len(ans1)):\n",
    "        t=t+a[0][i+1]*ans1[i]\n",
    "    x=(b[0]-t)/a[0][0]\n",
    "    answer=[x]+ans1\n",
    "    return flag,answer\n",
    "a=[[10,1,5],[0,-1,9],[4,1,1]]\n",
    "b=[7,-11,5]\n",
    "flag,x=solve(a,b)\n",
    "if flag:\n",
    "    print(\"the solution is\",x)\n",
    "\n",
    "    "
   ]
  },
  {
   "cell_type": "markdown",
   "metadata": {},
   "source": [
    "五、\t写一个 Python程序，给出 w,x,y,z 四个数，将这四个数从大到小 print出来。（5分）"
   ]
  },
  {
   "cell_type": "code",
   "execution_count": 47,
   "metadata": {},
   "outputs": [
    {
     "name": "stdout",
     "output_type": "stream",
     "text": [
      "[9, 7, 4, 3]\n"
     ]
    }
   ],
   "source": [
    "w=4;x=7;y=3;z=9\n",
    "l=[w,x,y,z]\n",
    "for i in range(len(l)-1):\n",
    "    max=i\n",
    "    for j in range(i+1,len(l)):\n",
    "        if l[j]>l[max]:max=j\n",
    "    l[i],l[max]=l[max],l[i]\n",
    "print(l)"
   ]
  },
  {
   "cell_type": "markdown",
   "metadata": {},
   "source": [
    "六、\t请给出一个 Python 程序段，用for循环求解$(x+2)^n$ 展开式的系数，其中n为给定的值，程序段要输出一个由展开式各项系数所组成的列表，例如，$(x+2)^2$ 展开式的系数列表为[1,4,4]。（8分）"
   ]
  },
  {
   "cell_type": "code",
   "execution_count": 11,
   "metadata": {},
   "outputs": [
    {
     "name": "stdout",
     "output_type": "stream",
     "text": [
      "2\n",
      "[1, 4, 4]\n"
     ]
    }
   ],
   "source": [
    "l=[1];x1=1;x2=1\n",
    "n=int(input())\n",
    "if n==0:l=[1]\n",
    "else:\n",
    "    for i in range(1,n+1):\n",
    "        for a in range(1,i+1):\n",
    "            x1=a*x1\n",
    "        for b in range(n+1-i,n+1):\n",
    "            x2=b*x2\n",
    "        h=int(2**i*(x2/x1))\n",
    "        x1=1\n",
    "        x2=1\n",
    "        l.append(h)\n",
    "print(l)"
   ]
  },
  {
   "cell_type": "markdown",
   "metadata": {},
   "source": [
    "七、\t请给出一个 Python 程序段，用 for 循环和 print 语句输出从1到100 之间的所有奇数。（5分）"
   ]
  },
  {
   "cell_type": "code",
   "execution_count": 3,
   "metadata": {},
   "outputs": [
    {
     "name": "stdout",
     "output_type": "stream",
     "text": [
      "1,3,5,7,9,11,13,15,17,19,21,23,25,27,29,31,33,35,37,39,41,43,45,47,49,51,53,55,57,59,61,63,65,67,69,71,73,75,77,79,81,83,85,87,89,91,93,95,97,99,"
     ]
    }
   ],
   "source": [
    "for i in range(1,101):\n",
    "    if i%2==1:\n",
    "        print(i,end=\",\")"
   ]
  },
  {
   "cell_type": "markdown",
   "metadata": {},
   "source": [
    "八、\t给出一个列表，请用 for 循环检查列表中是否存在负数。写出两个Python 程序，一个程序使用 break 语句，另一个不使用。（6分）"
   ]
  },
  {
   "cell_type": "code",
   "execution_count": 20,
   "metadata": {},
   "outputs": [
    {
     "name": "stdout",
     "output_type": "stream",
     "text": [
      "有负数\n"
     ]
    }
   ],
   "source": [
    "l=[52,-56,-55,54]\n",
    "for i in l:\n",
    "    if i<0:\n",
    "        print(\"有负数\");break\n",
    "else:print(\"无负数\")        "
   ]
  },
  {
   "cell_type": "code",
   "execution_count": 24,
   "metadata": {},
   "outputs": [
    {
     "name": "stdout",
     "output_type": "stream",
     "text": [
      "无负数\n"
     ]
    }
   ],
   "source": [
    "l=[52,56,55,54]\n",
    "num=0\n",
    "for i in l:\n",
    "    if i<0:\n",
    "        num=num+1\n",
    "if num>0:\n",
    "    print(\"有负数\")\n",
    "if num==0:\n",
    "    print(\"无负数\")\n",
    "    \n",
    "            \n",
    "    "
   ]
  },
  {
   "cell_type": "markdown",
   "metadata": {},
   "source": [
    "九、\t给定一个 for 条件：for i in range(1,100,2)，请把它改为 while 语句。（5分）"
   ]
  },
  {
   "cell_type": "code",
   "execution_count": 19,
   "metadata": {},
   "outputs": [],
   "source": [
    "i=1\n",
    "while i<=99:\n",
    "    i=i+2"
   ]
  },
  {
   "cell_type": "markdown",
   "metadata": {},
   "source": [
    "十、\t给定一个整数数列表 L，输出由列表中每一个包含它自己以及前面所有元素之和构成的新列表，例如 L=[1,2,3,4,5]，输出的新列表为[1,3,6,10,15]。（5分）"
   ]
  },
  {
   "cell_type": "code",
   "execution_count": 14,
   "metadata": {},
   "outputs": [
    {
     "name": "stdout",
     "output_type": "stream",
     "text": [
      "[1, 3, 6, 10, 15, 21]\n"
     ]
    }
   ],
   "source": [
    "l=[1,2,3,4,5,6]\n",
    "for i in range(1,len(l)):\n",
    "    l[i]=l[i]+l[i-1]\n",
    "print(l)"
   ]
  },
  {
   "cell_type": "markdown",
   "metadata": {},
   "source": [
    "十一、\t写一个Python程序，打印“我喜欢编程导论”，并用 print(chr(0x2605))语句打印的星星围起来。（5分）"
   ]
  },
  {
   "cell_type": "code",
   "execution_count": 5,
   "metadata": {},
   "outputs": [
    {
     "name": "stdout",
     "output_type": "stream",
     "text": [
      "★★★★★★★★★★★★★★\n",
      "★★★★我爱编程导论★★★★\n",
      "★★★★★★★★★★★★★★\n"
     ]
    }
   ],
   "source": [
    "print(chr(0x2605)*14)\n",
    "print(chr(0x2605)*4,end=\"\");print(\"我爱编程导论\",end=\"\");print(chr(0x2605)*4)\n",
    "print(chr(0x2605)*14)"
   ]
  },
  {
   "cell_type": "markdown",
   "metadata": {},
   "source": [
    "十二、\t写一个Python 程序，用 print（“X”）打印出一个等腰三角形，第一行一个 X 居中，第二行三个 X 居中，第三行 5 个 X 居中，以此类推，共打印 10 行。（5分）"
   ]
  },
  {
   "cell_type": "code",
   "execution_count": 16,
   "metadata": {},
   "outputs": [
    {
     "name": "stdout",
     "output_type": "stream",
     "text": [
      "          X\n",
      "         XXX\n",
      "        XXXXX\n",
      "       XXXXXXX\n",
      "      XXXXXXXXX\n",
      "     XXXXXXXXXXX\n",
      "    XXXXXXXXXXXXX\n",
      "   XXXXXXXXXXXXXXX\n",
      "  XXXXXXXXXXXXXXXXX\n",
      " XXXXXXXXXXXXXXXXXXX\n"
     ]
    }
   ],
   "source": [
    "n=10\n",
    "a=1\n",
    "for i in range(n,0,-1):\n",
    "    print(\" \"*i,end=\"\")\n",
    "    print(\"X\"*a)\n",
    "    a=a+2\n"
   ]
  },
  {
   "cell_type": "markdown",
   "metadata": {},
   "source": [
    "十三、\t写一个Python程序，分别用 for 和 while 循环实现对一个给定序列的倒排序输出。如给定 L=[1,2,3,4,5]，输出为[5,4,3,2,1]。（6分）"
   ]
  },
  {
   "cell_type": "code",
   "execution_count": 17,
   "metadata": {},
   "outputs": [
    {
     "name": "stdout",
     "output_type": "stream",
     "text": [
      "[22, 56, 99, 88, 45]\n"
     ]
    }
   ],
   "source": [
    "l=[45,88,99,56,22]\n",
    "for i in range(0,len(l)//2):\n",
    "    l[i],l[len(l)-1-i]=l[len(l)-1-i],l[i]\n",
    "print(l)"
   ]
  },
  {
   "cell_type": "markdown",
   "metadata": {},
   "source": [
    "十四、\t给定一个字符串 S，去掉其中所有的空格。例如“I love python”去掉空格后为“Ilovepython”。（5分）"
   ]
  },
  {
   "cell_type": "code",
   "execution_count": 18,
   "metadata": {},
   "outputs": [
    {
     "name": "stdout",
     "output_type": "stream",
     "text": [
      "dkfwe  j id4\n",
      "dkfwejid4"
     ]
    }
   ],
   "source": [
    "l=input()\n",
    "for i in range(len(l)):\n",
    "    if l[i]!=\" \":\n",
    "        print(l[i],end=\"\")\n",
    "        "
   ]
  },
  {
   "cell_type": "markdown",
   "metadata": {},
   "source": [
    "十五、\t给定一个整数列表，如何将这个列表的内容转换为用“,”间隔的字符串？例如 L=[3,1,2,4]，转换成字符串就是“3,1,2,4”。注意，先要把每个元素转换为字符串，在转换前还需要用字符串函数 isdigit()检查列表元素是否为数字。（5分）"
   ]
  },
  {
   "cell_type": "code",
   "execution_count": 17,
   "metadata": {},
   "outputs": [
    {
     "name": "stdout",
     "output_type": "stream",
     "text": [
      "3,1,2,4\n"
     ]
    }
   ],
   "source": [
    "l=[3,1,2,4]\n",
    "for i in range(len(l)):\n",
    "    l[i]=str(l[i])\n",
    "    if l[i].isdigit()==False:\n",
    "        print(\"不都是数字\");break\n",
    "else:    \n",
    "    s=str(l[0])+\",\"+str(l[1])+\",\"+str(l[2])+\",\"+str(l[3])\n",
    "    print(s)"
   ]
  },
  {
   "cell_type": "markdown",
   "metadata": {},
   "source": [
    "十六、\t写一个Python 程序，检查一个字符串是否为 Python可以接受的小数或整数形式。例如：s=“3.5”或“3”或“3.”或“.3” 的检查结果输出为 True。（5分）"
   ]
  },
  {
   "cell_type": "code",
   "execution_count": 10,
   "metadata": {},
   "outputs": [
    {
     "name": "stdout",
     "output_type": "stream",
     "text": [
      "5.d\n",
      "false\n"
     ]
    }
   ],
   "source": [
    "s=str(input())\n",
    "a=s.split(\".\")\n",
    "for i in a:\n",
    "    if not(i.isdigit()or i==\"\"):\n",
    "        print(\"false\");break\n",
    "else:print(\"true\")        "
   ]
  },
  {
   "cell_type": "markdown",
   "metadata": {},
   "source": [
    "十七、\t写一个Python 程序，判断一个字符串是否为回文字符串。回文字符串的意思是字符串顺序和逆序完全相同，如字符串“ABCBA”就是一个回文字符串， 而“ABCBAC”就不是回文字符串。（8分）"
   ]
  },
  {
   "cell_type": "code",
   "execution_count": 40,
   "metadata": {},
   "outputs": [
    {
     "name": "stdout",
     "output_type": "stream",
     "text": [
      "5665\n",
      "yes\n"
     ]
    }
   ],
   "source": [
    "a=input()\n",
    "number=1\n",
    "for i in range(len(a)//2):\n",
    "    if a[i]==a[len(a)-i-1]:\n",
    "        number=1\n",
    "    else:\n",
    "        number=0;break\n",
    "if number==1:print(\"yes\")\n",
    "else:print(\"no\")"
   ]
  },
  {
   "cell_type": "code",
   "execution_count": null,
   "metadata": {},
   "outputs": [],
   "source": []
  },
  {
   "cell_type": "code",
   "execution_count": null,
   "metadata": {},
   "outputs": [],
   "source": []
  }
 ],
 "metadata": {
  "kernelspec": {
   "display_name": "Python 3",
   "language": "python",
   "name": "python3"
  },
  "language_info": {
   "codemirror_mode": {
    "name": "ipython",
    "version": 3
   },
   "file_extension": ".py",
   "mimetype": "text/x-python",
   "name": "python",
   "nbconvert_exporter": "python",
   "pygments_lexer": "ipython3",
   "version": "3.7.0"
  }
 },
 "nbformat": 4,
 "nbformat_minor": 2
}
